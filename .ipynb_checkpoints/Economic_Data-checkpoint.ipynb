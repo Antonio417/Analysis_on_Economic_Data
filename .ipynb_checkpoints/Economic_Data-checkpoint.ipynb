{
 "cells": [
  {
   "cell_type": "markdown",
   "id": "880cf452",
   "metadata": {},
   "source": [
    "## The aim of this project is to analyse trends resulting from growing prosperity of different countries. The dataset used was published and collected from (https://www.gapminder.org/data/). Different factors and data will be used for measurement such as :\n",
    "* Electricity use per person\n",
    "* Income per Capita (PPP)\n",
    "* Gross Domestic Product (GDP, measured as PPP)\n"
   ]
  },
  {
   "cell_type": "code",
   "execution_count": 1,
   "id": "8e509222",
   "metadata": {},
   "outputs": [],
   "source": [
    "import pandas as pd\n",
    "import numpy as np\n",
    "import matplotlib.pyplot as plt\n",
    "import seaborn as sns\n",
    "from functools import reduce\n",
    "%matplotlib inline\n"
   ]
  },
  {
   "cell_type": "markdown",
   "id": "c460fe28",
   "metadata": {},
   "source": [
    "## **Data Wrangling**"
   ]
  },
  {
   "cell_type": "code",
   "execution_count": 2,
   "id": "2d321330",
   "metadata": {},
   "outputs": [],
   "source": [
    "# GDP by Purchasing Power Parity (PPP)\n",
    "df_gdp = pd.read_csv(\"https://raw.githubusercontent.com/open-numbers/ddf--gapminder--systema_globalis/master/countries-etc-datapoints/ddf--datapoints--total_gdp_ppp_inflation_adjusted--by--geo--time.csv\") \n",
    "# Citizen Income Per Capita $ Purchasing Power Parity (PPP)\n",
    "df_income = pd.read_csv(\"https://raw.githubusercontent.com/open-numbers/ddf--gapminder--systema_globalis/master/countries-etc-datapoints/ddf--datapoints--income_per_person_gdppercapita_ppp_inflation_adjusted--by--geo--time.csv\") \n",
    "# Electricity consumption per person\n",
    "df_electricity = pd.read_csv(\"https://raw.githubusercontent.com/open-numbers/ddf--gapminder--systema_globalis/master/countries-etc-datapoints/ddf--datapoints--electricity_use_per_person--by--geo--time.csv\") \n",
    "# Number of cellphones owned per 100 people\n",
    "df_cellphones = pd.read_csv(\"https://raw.githubusercontent.com/open-numbers/ddf--gapminder--systema_globalis/master/countries-etc-datapoints/ddf--datapoints--cell_phones_per_100_people--by--geo--time.csv\")      \n",
    "# % of internet users by country\n",
    "df_internet = pd.read_csv(\"https://raw.githubusercontent.com/open-numbers/ddf--gapminder--systema_globalis/master/countries-etc-datapoints/ddf--datapoints--internet_users--by--geo--time.csv\")   \n",
    "# Total annual oil consumption per country\n",
    "df_oil = pd.read_csv(\"https://raw.githubusercontent.com/open-numbers/ddf--gapminder--systema_globalis/master/countries-etc-datapoints/ddf--datapoints--oil_consumption_total--by--geo--time.csv\")"
   ]
  },
  {
   "cell_type": "code",
   "execution_count": 22,
   "id": "dece76eb",
   "metadata": {},
   "outputs": [],
   "source": [
    "# df_gdp.head(-5)\n",
    "# df_income.head(-5)\n",
    "# df_electricity.head(-5)\n",
    "# df_cellphones.head(-5)\n",
    "# df_internet.head(-5)\n",
    "# df_oil.head(-5)"
   ]
  },
  {
   "cell_type": "markdown",
   "id": "e9eb86fa",
   "metadata": {},
   "source": [
    "### It was observed that some countries and years has missing data. This could be attributed to the fact that data was either not available, or collected for a particular country in a year. Melft function will be used to turn data into a more analysable"
   ]
  }
 ],
 "metadata": {
  "kernelspec": {
   "display_name": "Python 3 (ipykernel)",
   "language": "python",
   "name": "python3"
  },
  "language_info": {
   "codemirror_mode": {
    "name": "ipython",
    "version": 3
   },
   "file_extension": ".py",
   "mimetype": "text/x-python",
   "name": "python",
   "nbconvert_exporter": "python",
   "pygments_lexer": "ipython3",
   "version": "3.9.7"
  }
 },
 "nbformat": 4,
 "nbformat_minor": 5
}
